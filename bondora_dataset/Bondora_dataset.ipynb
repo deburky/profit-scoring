{
 "cells": [
  {
   "attachments": {},
   "cell_type": "markdown",
   "metadata": {},
   "source": [
    "<img src=\"https://upload.wikimedia.org/wikipedia/commons/thumb/0/02/Bondora_logo.svg/1600px-Bondora_logo.svg.png\" width=\"400\">"
   ]
  },
  {
   "cell_type": "markdown",
   "metadata": {},
   "source": [
    "# <span style=\"font-family: ClearSans-Bold, sans-serif; color:navyblue\">Bondora Dataset</span>\n",
    "\n",
    "<span style=\"font-family: ClearSans, sans-serif; color:navyblue\">Credit Risk Modeling Dataset retrieved from a leading European P2P lending platform [Bondora](https://www.bondora.com/en/public-reports#dataset-file-format).\n",
    "\n",
    "<span style=\"font-family: ClearSans, sans-serif; color:navyblue\">Author: <a href=\"https://github.com/deburky\" title=\"GitHub link\">https://github.com/deburky</a></span>\\\n",
    "<span style=\"font-family: ClearSans, sans-serif; color:navyblue\">Original source of data cleansing: [bondora-peer-peer-lending-data](https://ieee-dataport.org/open-access/bondora-peer-peer-lending-data)</a></span>"
   ]
  },
  {
   "cell_type": "code",
   "execution_count": 1,
   "metadata": {},
   "outputs": [],
   "source": [
    "import numpy as np\n",
    "import pandas as pd\n",
    "pd.set_option('display.max_columns', 500)\n",
    "import zipfile, requests, io\n",
    "import warnings\n",
    "warnings.filterwarnings(\"ignore\")"
   ]
  },
  {
   "cell_type": "code",
   "execution_count": 2,
   "metadata": {},
   "outputs": [],
   "source": [
    "zf = requests.get(\"https://www.bondora.com/marketing/media/LoanData.zip\")\n",
    "df = pd.read_csv(io.BytesIO(zf.content),compression='zip', header=0, sep=',', quotechar='\"')"
   ]
  },
  {
   "cell_type": "code",
   "execution_count": null,
   "metadata": {},
   "outputs": [],
   "source": [
    "df.shape"
   ]
  },
  {
   "cell_type": "markdown",
   "metadata": {},
   "source": [
    "## <span style=\"font-family: ClearSans-Bold, sans-serif; color:navyblue\">Dataset description</span>"
   ]
  },
  {
   "cell_type": "markdown",
   "metadata": {},
   "source": [
    "| Feature                                | Description                                                                                                                                                                                                                                                                                                                                                                                                                                                                                                         |\n",
    "|----------------------------------------|---------------------------------------------------------------------------------------------------------------------------------------------------------------------------------------------------------------------------------------------------------------------------------------------------------------------------------------------------------------------------------------------------------------------------------------------------------------------------------------------------------------------|\n",
    "| ActiveLateCategory                     | When a loan is in Principal Debt then it will be categorized by Principal Debt days                                                                                                                                                                                                                                                                                                                                                                                                                                 |\n",
    "| ActiveLateLastPaymentCategory          | Shows how many days has passed since last payment and categorised if it is overdue                                                                                                                                                                                                                                                                                                                                                                                                                                  |\n",
    "| ActiveScheduleFirstPaymentReached      | Whether the first payment date has been reached according to the active schedule                                                                                                                                                                                                                                                                                                                                                                                                                                    |\n",
    "| Age                                    | The age of the borrower when signing the loan application                                                                                                                                                                                                                                                                                                                                                                                                                                                           |\n",
    "| Amount                                 | Amount the borrower received on the Primary Market. This is the principal balance of your purchase from Secondary Market                                                                                                                                                                                                                                                                                                                                                                                            |\n",
    "| AmountOfPreviousLoansBeforeLoan        | Value of previous loans                                                                                                                                                                                                                                                                                                                                                                                                                                                                                             |\n",
    "| AppliedAmount                          | The amount borrower applied for originally                                                                                                                                                                                                                                                                                                                                                                                                                                                                          |\n",
    "| AuctionBidNumber                       | Unique bid number which is accompanied by Auction number                                                                                                                                                                                                                                                                                                                                                                                                                                                            |\n",
    "| AuctionId                              | A unique number given to all auctions                                                                                                                                                                                                                                                                                                                                                                                                                                                                               |\n",
    "| AuctionName                            | Name of the Auction, in newer loans it is defined by the purpose of the loan                                                                                                                                                                                                                                                                                                                                                                                                                                        |\n",
    "| AuctionNumber                          | Unique auction number which is accompanied by Bid number                                                                                                                                                                                                                                                                                                                                                                                                                                                            |\n",
    "| BidPrincipal                           | On Primary Market BidPrincipal is the amount you made your bid on. On Secondary Market BidPrincipal is the purchase price                                                                                                                                                                                                                                                                                                                                                                                           |\n",
    "| BidsApi                                | The amount of investment offers made via Api                                                                                                                                                                                                                                                                                                                                                                                                                                                                        |\n",
    "| BidsManual                             | The amount of investment offers made manually                                                                                                                                                                                                                                                                                                                                                                                                                                                                       |\n",
    "| BidsPortfolioManager                   | The amount of investment offers made by Portfolio Managers                                                                                                                                                                                                                                                                                                                                                                                                                                                          |\n",
    "| BoughtFromResale_Date                  | The time when the investment was purchased from the Secondary Market                                                                                                                                                                                                                                                                                                                                                                                                                                                |\n",
    "| City                                   | City of the borrower                                                                                                                                                                                                                                                                                                                                                                                                                                                                                                |\n",
    "| ContractEndDate                        | The date when the loan contract ended                                                                                                                                                                                                                                                                                                                                                                                                                                                                               |\n",
    "| Country                                | Residency of the borrower                                                                                                                                                                                                                                                                                                                                                                                                                                                                                           |\n",
    "| County                                 | County of the borrower                                                                                                                                                                                                                                                                                                                                                                                                                                                                                              |\n",
    "| CreditScoreEeMini                      | 1000 No previous payments problems 900 Payments problems finished 24-36 months ago 800 Payments problems finished 12-24 months ago 700 Payments problems finished 6-12 months ago 600 Payment problems finished < 6 months ago 500 Active payment problems                                                                                                                                                                                                                                                          |\n",
    "| CreditScoreEsEquifaxRisk               | Generic score for the loan applicants that do not have active past due operations in ASNEF; a measure of the probability of default one year ahead; the score is given on a 6-grade scale: AAA (“Very low”), AA (“Low”), A (“Average”), B (“Average High”), C (“High”), D (“Very High”).                                                                                                                                                                                                                            |\n",
    "| CreditScoreEsMicroL                    | A score that is specifically designed for risk classifying subprime borrowers (defined by Equifax as borrowers that do not have access to bank loans); a measure of the probability of default one month ahead; the score is given on a 10-grade scale, from the best score to the worst: M1, M2, M3, M4, M5, M6, M7, M8, M9, M10.                                                                                                                                                                                  |\n",
    "| CreditScoreFiAsiakasTietoRiskGrade     | Credit Scoring model for Finnish Asiakastieto RL1 Very low risk 01-20 RL2 Low risk 21-40 RL3 Average risk 41-60 RL4 Big risk 61-80 RL5 Huge risk 81-100                                                                                                                                                                                                                                                                                                                                                             |\n",
    "| CurrentDebtDaysPrimary                 | How long the loan has been in Principal Debt                                                                                                                                                                                                                                                                                                                                                                                                                                                                        |\n",
    "| CurrentDebtDaysSecondary               | How long the loan has been in Interest Debt                                                                                                                                                                                                                                                                                                                                                                                                                                                                         |\n",
    "| DateOfBirth                            | The date of the borrower's birth                                                                                                                                                                                                                                                                                                                                                                                                                                                                                    |\n",
    "| DebtOccuredOn                          | The date when Principal Debt occurred                                                                                                                                                                                                                                                                                                                                                                                                                                                                               |\n",
    "| DebtOccuredOnForSecondary              | The date when Interest Debt occurred                                                                                                                                                                                                                                                                                                                                                                                                                                                                                |\n",
    "| DebtToIncome                           | Ratio of borrower's monthly gross income that goes toward paying loans                                                                                                                                                                                                                                                                                                                                                                                                                                              |\n",
    "| DefaultDate                            | The date when loan went into defaulted state and collection process was started                                                                                                                                                                                                                                                                                                                                                                                                                                     |\n",
    "| DesiredDiscountRate                    | Investment being sold at a discount or premium                                                                                                                                                                                                                                                                                                                                                                                                                                                                      |\n",
    "| EAD1                                   | Exposure at default, outstanding principal at default                                                                                                                                                                                                                                                                                                                                                                                                                                                               |\n",
    "| EAD2                                   | Exposure at default, loan amount less all payments prior to default                                                                                                                                                                                                                                                                                                                                                                                                                                                 |\n",
    "| Education                              | 1 Primary education 2 Basic education 3 Vocational education 4 Secondary education 5 Higher education                                                                                                                                                                                                                                                                                                                                                                                                               |\n",
    "| EL_V0                                  | Expected loss calculated by the specified version of Rating model                                                                                                                                                                                                                                                                                                                                                                                                                                                   |\n",
    "| EL_V1                                  | Expected loss calculated by the specified version of Rating model                                                                                                                                                                                                                                                                                                                                                                                                                                                   |\n",
    "| EL_V2                                  | Expected loss calculated by the specified version of Rating model                                                                                                                                                                                                                                                                                                                                                                                                                                                   |\n",
    "| EmploymentDurationCurrentEmployer      | Employment time with the current employer                                                                                                                                                                                                                                                                                                                                                                                                                                                                           |\n",
    "| EmploymentPosition                     | Employment position with the current employer                                                                                                                                                                                                                                                                                                                                                                                                                                                                       |\n",
    "| EmploymentStatus                       | 1 Unemployed 2 Partially employed 3 Fully employed 4 Self-employed 5 Entrepreneur 6 Retiree                                                                                                                                                                                                                                                                                                                                                                                                                         |\n",
    "| ExistingLiabilities                    | Borrower's number of existing liabilities                                                                                                                                                                                                                                                                                                                                                                                                                                                                           |\n",
    "| ExpectedLoss                           | Expected Loss calculated by the current Rating model                                                                                                                                                                                                                                                                                                                                                                                                                                                                |\n",
    "| ExpectedReturn                         | Expected Return calculated by the current Rating model                                                                                                                                                                                                                                                                                                                                                                                                                                                              |\n",
    "| FirstPaymentDate                       | First payment date according to initial loan schedule                                                                                                                                                                                                                                                                                                                                                                                                                                                               |\n",
    "| FreeCash                               | Discretionary income after monthly liabilities                                                                                                                                                                                                                                                                                                                                                                                                                                                                      |\n",
    "| Gender                                 | 0 Male 1 Woman 2 Undefined                                                                                                                                                                                                                                                                                                                                                                                                                                                                                          |\n",
    "| GracePeriodEnd                         | Date of the end of Grace period                                                                                                                                                                                                                                                                                                                                                                                                                                                                                     |\n",
    "| GracePeriodStart                       | Date of the beginning of Grace period                                                                                                                                                                                                                                                                                                                                                                                                                                                                               |\n",
    "| HomeOwnershipType                      | 0 Homeless 1 Owner 2 Living with parents 3 Tenant, pre-furnished property 4 Tenant, unfurnished property 5 Council house 6 Joint tenant 7 Joint ownership 8 Mortgage 9 Owner with encumbrance 10 Other                                                                                                                                                                                                                                                                                                              |\n",
    "| IncomeFromChildSupport                 | Borrower's income from alimony payments                                                                                                                                                                                                                                                                                                                                                                                                                                                                             |\n",
    "| IncomeFromFamilyAllowance              | Borrower's income from child support                                                                                                                                                                                                                                                                                                                                                                                                                                                                                |\n",
    "| IncomeFromLeavePay                     | Borrower's income from paternity leave                                                                                                                                                                                                                                                                                                                                                                                                                                                                              |\n",
    "| IncomeFromPension                      | Borrower's income from pension                                                                                                                                                                                                                                                                                                                                                                                                                                                                                      |\n",
    "| IncomeFromPrincipalEmployer            | Borrower's income from its employer                                                                                                                                                                                                                                                                                                                                                                                                                                                                                 |\n",
    "| IncomeFromSocialWelfare                | Borrower's income from social support                                                                                                                                                                                                                                                                                                                                                                                                                                                                               |\n",
    "| IncomeOther                            | Borrower's income from other sources                                                                                                                                                                                                                                                                                                                                                                                                                                                                                |\n",
    "| IncomeTotal                            | Borrower's total income                                                                                                                                                                                                                                                                                                                                                                                                                                                                                             |\n",
    "| Interest                               | Maximum interest rate accepted in the loan application                                                                                                                                                                                                                                                                                                                                                                                                                                                              |\n",
    "| InterestAndPenaltyBalance              | Unpaid interest and penalties                                                                                                                                                                                                                                                                                                                                                                                                                                                                                       |\n",
    "| InterestAndPenaltyDebtServicingCost    | Service cost related to the recovery of the debt based on the interest and penalties of the investment                                                                                                                                                                                                                                                                                                                                                                                                              |\n",
    "| InterestAndPenaltyPaymentsMade         | Note owner received loan transfers earned interest, penalties total amount                                                                                                                                                                                                                                                                                                                                                                                                                                          |\n",
    "| InterestAndPenaltyWriteOffs            | Interest that was written off on the investment                                                                                                                                                                                                                                                                                                                                                                                                                                                                     |\n",
    "| InterestLateAmount                     | Interest debt amount                                                                                                                                                                                                                                                                                                                                                                                                                                                                                                |\n",
    "| InterestRecovery                       | Interest recovered due to collection process from in debt loans                                                                                                                                                                                                                                                                                                                                                                                                                                                     |\n",
    "| LanguageCode                           | 1 Estonian 2 English 3 Russian 4 Finnish 5 German 6 Spanish 9 Slovakian                                                                                                                                                                                                                                                                                                                                                                                                                                             |\n",
    "| LastPaymentOn                          | The date of the current last payment received from the borrower                                                                                                                                                                                                                                                                                                                                                                                                                                                     |\n",
    "| LiabilitiesTotal                       | Total monthly liabilities                                                                                                                                                                                                                                                                                                                                                                                                                                                                                           |\n",
    "| ListedOnUTC                            | Date when the loan application appeared on Primary Market                                                                                                                                                                                                                                                                                                                                                                                                                                                           |\n",
    "| LoanDate                               | Date when the loan was issued                                                                                                                                                                                                                                                                                                                                                                                                                                                                                       |\n",
    "| LoanDuration                           | Current loan duration in months                                                                                                                                                                                                                                                                                                                                                                                                                                                                                     |\n",
    "| LoanId                                 | A unique ID given to all loan applications                                                                                                                                                                                                                                                                                                                                                                                                                                                                          |\n",
    "| LoanNumber                             | A unique number given to all loan applications                                                                                                                                                                                                                                                                                                                                                                                                                                                                      |\n",
    "| LoanStatusActiveFrom                   | How long the current status has been active                                                                                                                                                                                                                                                                                                                                                                                                                                                                         |\n",
    "| LossGivenDefault                       | Gives the percentage of outstanding exposure at the time of default that an investor is likely to lose if a loan actually defaults. This means the proportion of funds lost for the investor after all expected recovery and accounting for the time value of the money recovered. In general, LGD parameter is intended to be estimated based on the historical recoveries. However, in new markets where limited experience does not allow us more precise loss given default estimates, a LGD of 90% is assumed. |\n",
    "| MaritalStatus                          | 1 Married 2 Cohabitant 3 Single 4 Divorced 5 Widow                                                                                                                                                                                                                                                                                                                                                                                                                                                                  |\n",
    "| MaturityDate_Last                      | Loan maturity date according to the current payment schedule                                                                                                                                                                                                                                                                                                                                                                                                                                                        |\n",
    "| MaturityDate_Original                  | Loan maturity date according to the original loan schedule                                                                                                                                                                                                                                                                                                                                                                                                                                                          |\n",
    "| ModelVersion                           | The version of the Rating model used for issuing the Bondora Rating                                                                                                                                                                                                                                                                                                                                                                                                                                                 |\n",
    "| MonthlyPayment                         | Estimated amount the borrower has to pay every month                                                                                                                                                                                                                                                                                                                                                                                                                                                                |\n",
    "| MonthlyPaymentDay                      | The day of the month the loan payments are scheduled for The actual date is adjusted for weekends and bank holidays (e.g. if 10th is Sunday then the payment will be made on the 11th in that month)                                                                                                                                                                                                                                                                                                                |\n",
    "| NewCreditCustomer                      | Did the customer have prior credit history in Bondora 0 Customer had at least 3 months of credit history in Bondora 1 No prior credit history in Bondora                                                                                                                                                                                                                                                                                                                                                            |\n",
    "| NextPaymentDate                        | According to schedule the next date for borrower to make their payment                                                                                                                                                                                                                                                                                                                                                                                                                                              |\n",
    "| NextPaymentNr                          | According to schedule the number of the next payment                                                                                                                                                                                                                                                                                                                                                                                                                                                                |\n",
    "| NextPaymentSum                         | According to schedule the amount of the next payment                                                                                                                                                                                                                                                                                                                                                                                                                                                                |\n",
    "| NoOfPreviousLoansBeforeLoan            | Number of previous loans                                                                                                                                                                                                                                                                                                                                                                                                                                                                                            |\n",
    "| note_id                                | A unique ID given to the investments                                                                                                                                                                                                                                                                                                                                                                                                                                                                                |\n",
    "| NoteLoanLateChargesPaid                | The amount of late charges the note has received                                                                                                                                                                                                                                                                                                                                                                                                                                                                    |\n",
    "| NoteLoanTransfersInterestAmount        | The amount of interest the note has received                                                                                                                                                                                                                                                                                                                                                                                                                                                                        |\n",
    "| NoteLoanTransfersMainAmount            | The amount of principal the note has received                                                                                                                                                                                                                                                                                                                                                                                                                                                                       |\n",
    "| NrOfDependants                         | Number of children or other dependants                                                                                                                                                                                                                                                                                                                                                                                                                                                                              |\n",
    "| NrOfScheduledPayments                  | According to schedule the count of scheduled payments                                                                                                                                                                                                                                                                                                                                                                                                                                                               |\n",
    "| OccupationArea                         | 1 Other 2 Mining 3 Processing 4 Energy 5 Utilities 6 Construction 7 Retail and wholesale 8 Transport and warehousing 9 Hospitality and catering 10 Info and telecom 11 Finance and insurance 12 Real-estate 13 Research 14 Administrative 15 Civil service & military 16 Education 17 Healthcare and social help 18 Art and entertainment 19 Agriculture, forestry and fishing                                                                                                                                      |\n",
    "| OnSaleSince                            | Time when the investment was added to Secondary Market                                                                                                                                                                                                                                                                                                                                                                                                                                                              |\n",
    "| PenaltyLateAmount                      | Late charges debt amount                                                                                                                                                                                                                                                                                                                                                                                                                                                                                            |\n",
    "| PlannedInterestPostDefault             | The amount of interest that was planned to be received after the default occurred                                                                                                                                                                                                                                                                                                                                                                                                                                   |\n",
    "| PlannedInterestTillDate                | According to active schedule the amount of interest the investment should have received                                                                                                                                                                                                                                                                                                                                                                                                                             |\n",
    "| PlannedPrincipalPostDefault            | The amount of principal that was planned to be received after the default occurred                                                                                                                                                                                                                                                                                                                                                                                                                                  |\n",
    "| PlannedPrincipalTillDate               | According to active schedule the amount of principal the investment should have received                                                                                                                                                                                                                                                                                                                                                                                                                            |\n",
    "| PreviousEarlyRepaymentsBeforeLoan      | How much was the early repayment amount before the loan                                                                                                                                                                                                                                                                                                                                                                                                                                                             |\n",
    "| PreviousEarlyRepaymentsCountBeforeLoan | How many times the borrower had repaid early                                                                                                                                                                                                                                                                                                                                                                                                                                                                        |\n",
    "| PreviousRepaymentsBeforeLoan           | How much the borrower had repaid before the loan                                                                                                                                                                                                                                                                                                                                                                                                                                                                    |\n",
    "| PrincipalBalance                       | Principal that still needs to be paid by the borrower                                                                                                                                                                                                                                                                                                                                                                                                                                                               |\n",
    "| PrincipalDebtServicingCost             | Service cost related to the recovery of the debt based on the principal of the investment                                                                                                                                                                                                                                                                                                                                                                                                                           |\n",
    "| PrincipalLateAmount                    | Principal debt amount                                                                                                                                                                                                                                                                                                                                                                                                                                                                                               |\n",
    "| PrincipalOverdueBySchedule             | According to the current schedule, principal that is overdue                                                                                                                                                                                                                                                                                                                                                                                                                                                        |\n",
    "| PrincipalPaymentsMade                  | Note owner received loan transfers principal amount                                                                                                                                                                                                                                                                                                                                                                                                                                                                 |\n",
    "| PrincipalRecovery                      | Principal recovered due to collection process from in debt loans                                                                                                                                                                                                                                                                                                                                                                                                                                                    |\n",
    "| PrincipalWriteOffs                     | Principal that was written off on the investment                                                                                                                                                                                                                                                                                                                                                                                                                                                                    |\n",
    "| ProbabilityOfDefault                   | Probability of Default, refers to a loan’s probability of default within one year horizon.                                                                                                                                                                                                                                                                                                                                                                                                                          |\n",
    "| PurchasePrice                          | Investment amount or secondary market purchase price                                                                                                                                                                                                                                                                                                                                                                                                                                                                |\n",
    "| Rating                                 | Bondora Rating issued by the Rating model                                                                                                                                                                                                                                                                                                                                                                                                                                                                           |\n",
    "| Rating_V0                              | Bondora Rating issued by version 0 of the Rating model                                                                                                                                                                                                                                                                                                                                                                                                                                                              |\n",
    "| Rating_V1                              | Bondora Rating issued by version 1 of the Rating model                                                                                                                                                                                                                                                                                                                                                                                                                                                              |\n",
    "| Rating_V2                              | Bondora Rating issued by version 2 of the Rating model                                                                                                                                                                                                                                                                                                                                                                                                                                                              |\n",
    "| RecoveryStage                          | Current stage according to the recovery model 1 Collection 2 Recovery 3 Write Off                                                                                                                                                                                                                                                                                                                                                                                                                                   |\n",
    "| RefinanceLiabilities                   | The total amount of liabilities after refinancing                                                                                                                                                                                                                                                                                                                                                                                                                                                                   |\n",
    "| ReScheduledOn                          | The date when the a new schedule was assigned to the borrower                                                                                                                                                                                                                                                                                                                                                                                                                                                       |\n",
    "| Restructured                           | The original maturity date of the loan has been increased by more than 60 days                                                                                                                                                                                                                                                                                                                                                                                                                                      |\n",
    "| SoldInResale_Date                      | The date when the investment was sold on Secondary market                                                                                                                                                                                                                                                                                                                                                                                                                                                           |\n",
    "| SoldInResale_Price                     | The price of the investment that was sold on Secondary market                                                                                                                                                                                                                                                                                                                                                                                                                                                       |\n",
    "| SoldInResale_Principal                 | The principal remaining of the investment that was sold on Secondary market                                                                                                                                                                                                                                                                                                                                                                                                                                         |\n",
    "| StageActiveSince                       | How long the current recovery stage has been active                                                                                                                                                                                                                                                                                                                                                                                                                                                                 |\n",
    "| Status                                 | The current status of the loan application                                                                                                                                                                                                                                                                                                                                                                                                                                                                          |\n",
    "| UseOfLoan                              | 0 Loan consolidation 1 Real estate 2 Home improvement 3 Business 4 Education 5 Travel 6 Vehicle 7 Other 8 Health 101 Working capital financing 102 Purchase of machinery equipment 103 Renovation of real estate 104 Accounts receivable financing 105 Acquisition of means of transport 106 Construction finance 107 Acquisition of stocks 108 Acquisition of real estate 109 Guaranteeing obligation 110 Other business All codes in format 1XX are for business loans that are not supported since October 2012  |\n",
    "| UserName                               | The user name generated by the system for the borrower                                                                                                                                                                                                                                                                                                                                                                                                                                                              |\n",
    "| VerificationType                       | Method used for loan application data verification 0 Not set 1 Income unverified 2 Income unverified, cross-referenced by phone 3 Income verified 4 Income and expenses verified                                                                                                                                                                                                                                                                                                                                    |\n",
    "| WorkExperience                         | Borrower's overall work experience in years                                                                                                                                                                                                                                                                                                                                                                                                                                                                         |\n",
    "| WorseLateCategory                      | Displays the last longest period of days when the loan was in Principal Debt"
   ]
  },
  {
   "cell_type": "markdown",
   "metadata": {},
   "source": [
    "## <span style=\"font-family: ClearSans-Bold, sans-serif; color:navyblue\">Treatment of missing values</span>\n"
   ]
  },
  {
   "cell_type": "code",
   "execution_count": null,
   "metadata": {},
   "outputs": [],
   "source": [
    "pd.set_option('display.max_rows', None)\n",
    "missings = pd.DataFrame(round(df.isnull().sum()/len(df.index), 2)*100, columns=['missing_rate'])"
   ]
  },
  {
   "cell_type": "code",
   "execution_count": null,
   "metadata": {
    "scrolled": true
   },
   "outputs": [],
   "source": [
    "missings[missings['missing_rate'] > 40].index.T"
   ]
  },
  {
   "cell_type": "code",
   "execution_count": null,
   "metadata": {},
   "outputs": [],
   "source": [
    "# preprocess variables with clear economic meaning\n",
    "df['NrOfDependants'] = np.where(df['NrOfDependants'].isna(), 0, df['NrOfDependants'])\n",
    "df['NrOfDependants'] = np.where(df['NrOfDependants'].isin(['10Plus']), 10, df['NrOfDependants'])\n",
    "df['NrOfDependants'] = df['NrOfDependants'].astype(int)\n",
    "df['PreviousEarlyRepaymentsBefoleLoan'] = np.where(df['PreviousEarlyRepaymentsBefoleLoan'].isna(), 0, df['PreviousEarlyRepaymentsBefoleLoan'])"
   ]
  },
  {
   "cell_type": "code",
   "execution_count": null,
   "metadata": {},
   "outputs": [],
   "source": [
    "cols_to_keep = ['DefaultDate', 'PrincipalWriteOffs', 'NrOfDependants', 'PreviousEarlyRepaymentsBefoleLoan']\n",
    "# removing the columns having more than 40% missing values\n",
    "missing_columns = df.columns[100*(df.isnull().sum()/len(df.index)) > 40].to_list()\n",
    "missing_columns = set(missing_columns) - set(cols_to_keep)\n",
    "print(missing_columns)"
   ]
  },
  {
   "cell_type": "code",
   "execution_count": null,
   "metadata": {},
   "outputs": [],
   "source": [
    "loan = df.drop(missing_columns, axis=1)\n",
    "print(loan.shape)"
   ]
  },
  {
   "cell_type": "code",
   "execution_count": null,
   "metadata": {},
   "outputs": [],
   "source": [
    "# drop other columns having potential target leakage\n",
    "cols_del = ['ReportAsOfEOD',\n",
    "            'ListedOnUTC',\n",
    "            'BiddingStartedOn',\n",
    "            'LoanApplicationStartedDate',\n",
    "            'ActiveScheduleFirstPaymentReached', \n",
    "            'PlannedInterestTillDate',\n",
    "            'PrincipalOverdueBySchedule',\n",
    "            'StageActiveSince', \n",
    "            'ModelVersion',\n",
    "            'WorseLateCategory']"
   ]
  },
  {
   "cell_type": "code",
   "execution_count": null,
   "metadata": {},
   "outputs": [],
   "source": [
    "loan = loan.drop(cols_del, axis=1)"
   ]
  },
  {
   "cell_type": "code",
   "execution_count": null,
   "metadata": {},
   "outputs": [],
   "source": [
    "loan.shape"
   ]
  },
  {
   "cell_type": "code",
   "execution_count": null,
   "metadata": {},
   "outputs": [],
   "source": [
    "loan.loc[0:1, 'IncomeFromPrincipalEmployer']"
   ]
  },
  {
   "cell_type": "markdown",
   "metadata": {
    "tags": []
   },
   "source": [
    "## <span style=\"font-family: ClearSans-Bold, sans-serif; color:navyblue\">Reconstruction of 12-month into-default flag</span>"
   ]
  },
  {
   "cell_type": "code",
   "execution_count": null,
   "metadata": {},
   "outputs": [],
   "source": [
    "# 12-month into default flag\n",
    "loan['DefaultDate'] = pd.to_datetime(loan['DefaultDate'])\n",
    "loan['LoanDate'] = pd.to_datetime(loan['LoanDate'])\n",
    "\n",
    "cond_1 = (loan['LoanDate'] + np.timedelta64(12, \"M\") > loan[\"DefaultDate\"])\n",
    "cond_2 = (loan['LoanDate'] <= loan[\"DefaultDate\"])\n",
    "\n",
    "loan['is_default'] = 0\n",
    "loan.loc[cond_1 & cond_2, 'is_default'] = 1"
   ]
  },
  {
   "cell_type": "code",
   "execution_count": null,
   "metadata": {},
   "outputs": [],
   "source": [
    "print(f\"Default rate (DR): {loan['is_default'].mean():.2%}\")\n",
    "print(f\"Probability of default (PD): {loan['ProbabilityOfDefault'].mean():.2%}\")"
   ]
  },
  {
   "cell_type": "code",
   "execution_count": null,
   "metadata": {},
   "outputs": [],
   "source": [
    "filter_new_users = loan['NewCreditCustomer'] == True # new users\n",
    "print(f\"Default rate (DR): {loan[filter_new_users]['is_default'].mean():.2%}\")\n",
    "print(f\"Probability of default (PD): {loan[filter_new_users]['ProbabilityOfDefault'].mean():.2%}\")"
   ]
  },
  {
   "cell_type": "markdown",
   "metadata": {},
   "source": [
    "## <span style=\"font-family: ClearSans-Bold, sans-serif; color:navyblue\">Processing of categorical features</span>"
   ]
  },
  {
   "cell_type": "code",
   "execution_count": null,
   "metadata": {},
   "outputs": [],
   "source": [
    "loan.describe(include=[object])"
   ]
  },
  {
   "cell_type": "code",
   "execution_count": null,
   "metadata": {},
   "outputs": [],
   "source": [
    "loan['VerificationType'].value_counts(normalize=True, dropna=False)"
   ]
  },
  {
   "cell_type": "code",
   "execution_count": null,
   "metadata": {},
   "outputs": [],
   "source": [
    "loan['VerificationType'][loan['VerificationType'] == 0.0] = 'Not_set'\n",
    "loan['VerificationType'][loan['VerificationType'].isna()] = 'Not_set'\n",
    "loan['VerificationType'][loan['VerificationType'] == 1.0] = 'Income_unverified'\n",
    "loan['VerificationType'][loan['VerificationType'] == 2.0] = 'Income_unverified_crossref_phone'\n",
    "loan['VerificationType'][loan['VerificationType'] == 3.0] = 'Income_verified'\n",
    "loan['VerificationType'][loan['VerificationType'] == 4.0] = 'Income_expenses_verified'\n",
    "loan['VerificationType'].value_counts(normalize=True, dropna=False)"
   ]
  },
  {
   "cell_type": "code",
   "execution_count": null,
   "metadata": {},
   "outputs": [],
   "source": [
    "loan['Gender'].value_counts(normalize=True, dropna=False)"
   ]
  },
  {
   "cell_type": "code",
   "execution_count": null,
   "metadata": {},
   "outputs": [],
   "source": [
    "loan['Gender'][loan['Gender'] == 0.0] = 'Male'\n",
    "loan['Gender'][loan['Gender'] == 1.0] = 'Female'\n",
    "loan['Gender'][loan['Gender'] == 2.0] = 'Unknown'\n",
    "loan['Gender'][loan['Gender'].isna()] = 'Unknown'\n",
    "loan['Gender'].value_counts(normalize=True)"
   ]
  },
  {
   "cell_type": "code",
   "execution_count": null,
   "metadata": {},
   "outputs": [],
   "source": [
    "loan['LanguageCode'].value_counts(normalize=True, dropna=False)"
   ]
  },
  {
   "cell_type": "code",
   "execution_count": null,
   "metadata": {},
   "outputs": [],
   "source": [
    "loan['LanguageCode'][loan['LanguageCode'] == 1] = 'Estonian'\n",
    "loan['LanguageCode'][loan['LanguageCode'] == 2] = 'Others'\n",
    "loan['LanguageCode'][loan['LanguageCode'] == 3] = 'Russian'\n",
    "loan['LanguageCode'][loan['LanguageCode'] == 4] = 'Finnish'\n",
    "loan['LanguageCode'][loan['LanguageCode'] == 5] = 'Others'\n",
    "loan['LanguageCode'][loan['LanguageCode'] == 6] = 'Spanish'\n",
    "loan['LanguageCode'][loan['LanguageCode'] == 9] = 'Others'\n",
    "loan['LanguageCode'][loan['LanguageCode'] == 7] = 'Others'\n",
    "loan['LanguageCode'][loan['LanguageCode'] == 8] = 'Others'\n",
    "loan['LanguageCode'][loan['LanguageCode'] == 10] = 'Others'\n",
    "loan['LanguageCode'][loan['LanguageCode'] == 13] = 'Others'\n",
    "loan['LanguageCode'][loan['LanguageCode'] == 15] = 'Others'\n",
    "loan['LanguageCode'][loan['LanguageCode'] == 19] = 'Others'\n",
    "loan['LanguageCode'][loan['LanguageCode'] == 21] = 'Others'\n",
    "loan['LanguageCode'][loan['LanguageCode'] == 22] = 'Others'\n",
    "loan['LanguageCode'].value_counts(normalize=True)"
   ]
  },
  {
   "cell_type": "code",
   "execution_count": null,
   "metadata": {},
   "outputs": [],
   "source": [
    "loan['UseOfLoan'].value_counts(normalize=True, dropna=False)"
   ]
  },
  {
   "cell_type": "markdown",
   "metadata": {},
   "source": [
    "As we can see from above stats most of the loans are `-1` category whose description is not avaialble in Bondoro website so we have dig deeper to find that in Bondora most of the loans happened for which purpose so we find in Bondora [Statistics Page](https://www.bondora.com/en/public-statistics) most of the loans around 34.81% are for `Not_set` purpose. so we will encode `-1` as `Not_set` category"
   ]
  },
  {
   "cell_type": "code",
   "execution_count": null,
   "metadata": {},
   "outputs": [],
   "source": [
    "loan['UseOfLoan'][loan['UseOfLoan'] == -1] = 'Not_set'\n",
    "loan['UseOfLoan'][loan['UseOfLoan'] == 0] = 'Loan_consolidation'\n",
    "loan['UseOfLoan'][loan['UseOfLoan'] == 1] = 'Real_estate'\n",
    "loan['UseOfLoan'][loan['UseOfLoan'] == 2] = 'Home_improvement'\n",
    "loan['UseOfLoan'][loan['UseOfLoan'] == 3] = 'Business'\n",
    "loan['UseOfLoan'][loan['UseOfLoan'] == 4] = 'Education'\n",
    "loan['UseOfLoan'][loan['UseOfLoan'] == 5] = 'Travel'\n",
    "loan['UseOfLoan'][loan['UseOfLoan'] == 6] = 'Vehicle'\n",
    "loan['UseOfLoan'][loan['UseOfLoan'] == 7] = 'Other'\n",
    "loan['UseOfLoan'][loan['UseOfLoan'] == 8] = 'Health'\n",
    "loan['UseOfLoan'][loan['UseOfLoan'] == 101] = 'Working_capital_financing'\n",
    "loan['UseOfLoan'][loan['UseOfLoan'] == 102] = 'Purchase_of_machinery_equipment'\n",
    "loan['UseOfLoan'][loan['UseOfLoan'] == 104] = 'Accounts_receivable_financing'\n",
    "loan['UseOfLoan'][loan['UseOfLoan'] == 106] = 'Construction_finance'\n",
    "loan['UseOfLoan'][loan['UseOfLoan'] == 107] = 'Acquisition_of_stocks'\n",
    "loan['UseOfLoan'][loan['UseOfLoan'] == 108] = 'Acquisition_of_real_estate'\n",
    "loan['UseOfLoan'][loan['UseOfLoan'] == 110] = 'Other_business'\n",
    "loan['UseOfLoan'].value_counts(normalize=True, dropna=False)"
   ]
  },
  {
   "cell_type": "code",
   "execution_count": null,
   "metadata": {},
   "outputs": [],
   "source": [
    "loan['Education'].value_counts(normalize=True, dropna=False)"
   ]
  },
  {
   "cell_type": "markdown",
   "metadata": {},
   "source": [
    "Again as we can see from above description for `-1` and `0` in case education is not present we will encode the variable as `Not_present`"
   ]
  },
  {
   "cell_type": "code",
   "execution_count": null,
   "metadata": {},
   "outputs": [],
   "source": [
    "loan['Education'][loan['Education'] == 1.0] = 'Primary'\n",
    "loan['Education'][loan['Education'] == 2.0] = 'Basic'\n",
    "loan['Education'][loan['Education'] == 3.0] = 'Vocational'\n",
    "loan['Education'][loan['Education'] == 4.0] = 'Secondary'\n",
    "loan['Education'][loan['Education'] == 5.0] = 'Higher'\n",
    "loan['Education'][loan['Education'] == -1.0] = 'Not_present'\n",
    "loan['Education'][loan['Education'] == 0.0] = 'Not_present'\n",
    "loan['Education'][loan['Education'].isna()] = 'Not_present'\n",
    "loan['Education'].value_counts(normalize=True)"
   ]
  },
  {
   "cell_type": "code",
   "execution_count": null,
   "metadata": {},
   "outputs": [],
   "source": [
    "loan['MaritalStatus'].value_counts(normalize=True, dropna=False)"
   ]
  },
  {
   "cell_type": "markdown",
   "metadata": {},
   "source": [
    "Again Marital status of value `0` and `-1` has no description so we will encode them as `Not_specified`"
   ]
  },
  {
   "cell_type": "code",
   "execution_count": null,
   "metadata": {},
   "outputs": [],
   "source": [
    "loan['MaritalStatus'][loan['MaritalStatus'] == 1.0] = 'Married'\n",
    "loan['MaritalStatus'][loan['MaritalStatus'] == 2.0] = 'Cohabitant'\n",
    "loan['MaritalStatus'][loan['MaritalStatus'] == 3.0] = 'Single'\n",
    "loan['MaritalStatus'][loan['MaritalStatus'] == 4.0] = 'Divorced'\n",
    "loan['MaritalStatus'][loan['MaritalStatus'] == 5.0] = 'Widow'\n",
    "loan['MaritalStatus'][loan['MaritalStatus'] == -1.0] = 'Not_specified'\n",
    "loan['MaritalStatus'][loan['MaritalStatus'] == 0.0] = 'Not_specified'\n",
    "loan['MaritalStatus'][loan['MaritalStatus'].isna()] = 'Not_specified'\n",
    "loan['MaritalStatus'].value_counts(normalize=True, dropna=False)"
   ]
  },
  {
   "cell_type": "code",
   "execution_count": null,
   "metadata": {},
   "outputs": [],
   "source": [
    "loan['EmploymentStatus'].value_counts(normalize=True, dropna=False)"
   ]
  },
  {
   "cell_type": "code",
   "execution_count": null,
   "metadata": {},
   "outputs": [],
   "source": [
    "loan['OccupationArea'].value_counts(normalize=True, dropna=False)"
   ]
  },
  {
   "cell_type": "code",
   "execution_count": null,
   "metadata": {},
   "outputs": [],
   "source": [
    "loan['EmploymentStatus'][loan['EmploymentStatus'] == 1.0] = 'Unemployed'\n",
    "loan['EmploymentStatus'][loan['EmploymentStatus'] == 2.0] = 'Partially'\n",
    "loan['EmploymentStatus'][loan['EmploymentStatus'] == 3.0] = 'Fully'\n",
    "loan['EmploymentStatus'][loan['EmploymentStatus'] == 4.0] = 'Self_employed'\n",
    "loan['EmploymentStatus'][loan['EmploymentStatus'] == 5.0] = 'Entrepreneur'\n",
    "loan['EmploymentStatus'][loan['EmploymentStatus'] == 6.0] = 'Retiree'\n",
    "loan['EmploymentStatus'][loan['EmploymentStatus'] == -1.0] = 'Not_specified'\n",
    "loan['EmploymentStatus'][loan['EmploymentStatus'] == 0.0] = 'Not_specified'\n",
    "loan['EmploymentStatus'][loan['EmploymentStatus'].isna()] = 'Not_specified'\n",
    "\n",
    "loan['OccupationArea'][loan['OccupationArea'] == 1] = 'Other'\n",
    "loan['OccupationArea'][loan['OccupationArea'] == 2] = 'Mining'\n",
    "loan['OccupationArea'][loan['OccupationArea'] == 3] = 'Processing'\n",
    "loan['OccupationArea'][loan['OccupationArea'] == 4] = 'Energy'\n",
    "loan['OccupationArea'][loan['OccupationArea'] == 5] = 'Utilities'\n",
    "loan['OccupationArea'][loan['OccupationArea'] == 6] = 'Construction'\n",
    "loan['OccupationArea'][loan['OccupationArea'] == 7] = 'Retail_and_wholesale'\n",
    "loan['OccupationArea'][loan['OccupationArea'] == 8] = 'Transport_and_warehousing'\n",
    "loan['OccupationArea'][loan['OccupationArea'] == 9] = 'Hospitality_and_catering'\n",
    "loan['OccupationArea'][loan['OccupationArea'] == 10] = 'Info_and_telecom'\n",
    "loan['OccupationArea'][loan['OccupationArea'] == 11] = 'Finance_and_insurance'\n",
    "loan['OccupationArea'][loan['OccupationArea'] == 12] = 'Real_estate'\n",
    "loan['OccupationArea'][loan['OccupationArea'] == 13] = 'Research'\n",
    "loan['OccupationArea'][loan['OccupationArea'] == 14] = 'Administrative'\n",
    "loan['OccupationArea'][loan['OccupationArea'] == 15] = 'Civil_service_and_military'\n",
    "loan['OccupationArea'][loan['OccupationArea'] == 16] = 'Education'\n",
    "loan['OccupationArea'][loan['OccupationArea'] == 17] = 'Healthcare_and_social_help'\n",
    "loan['OccupationArea'][loan['OccupationArea'] == 18] = 'Art_and_entertainment'\n",
    "loan['OccupationArea'][loan['OccupationArea'] == 19] = 'Agriculture_forestry_and_fishing'\n",
    "loan['OccupationArea'][loan['OccupationArea'] == -1.0] = 'Not_specified'\n",
    "loan['OccupationArea'][loan['OccupationArea'] == 0.0] = 'Not_specified'\n",
    "loan['OccupationArea'][loan['OccupationArea'].isna()] = 'Not_specified'"
   ]
  },
  {
   "cell_type": "code",
   "execution_count": null,
   "metadata": {},
   "outputs": [],
   "source": [
    "loan['EmploymentStatus'].value_counts(normalize=True, dropna=False)"
   ]
  },
  {
   "cell_type": "code",
   "execution_count": null,
   "metadata": {},
   "outputs": [],
   "source": [
    "loan['OccupationArea'].value_counts(normalize=True)"
   ]
  },
  {
   "cell_type": "code",
   "execution_count": null,
   "metadata": {},
   "outputs": [],
   "source": [
    "loan['Restructured'].value_counts(normalize=True, dropna=False)"
   ]
  },
  {
   "cell_type": "code",
   "execution_count": null,
   "metadata": {},
   "outputs": [],
   "source": [
    "loan['NewCreditCustomer'].value_counts(normalize=True, dropna=False)"
   ]
  },
  {
   "cell_type": "code",
   "execution_count": null,
   "metadata": {},
   "outputs": [],
   "source": [
    "loan['NewCreditCustomer'][loan['NewCreditCustomer'] == False] = 'Existing_credit_customer'\n",
    "loan['NewCreditCustomer'][loan['NewCreditCustomer'] == True] = 'New_credit_Customer'\n",
    "\n",
    "loan['Restructured'][loan['Restructured'] == False] = 'No'\n",
    "loan['Restructured'][loan['Restructured'] == True] = 'Yes'"
   ]
  },
  {
   "cell_type": "code",
   "execution_count": null,
   "metadata": {},
   "outputs": [],
   "source": [
    "loan['HomeOwnershipType'].value_counts(normalize=True, dropna=False)"
   ]
  },
  {
   "cell_type": "code",
   "execution_count": null,
   "metadata": {},
   "outputs": [],
   "source": [
    "loan['HomeOwnershipType'][loan['HomeOwnershipType'] == -1.0] = 'Not_specified'\n",
    "loan['HomeOwnershipType'][loan['HomeOwnershipType'].isna()] = 'Not_specified'\n",
    "loan['HomeOwnershipType'][loan['HomeOwnershipType'] == 0.0] = 'Homeless'\n",
    "loan['HomeOwnershipType'][loan['HomeOwnershipType'] == 1.0] = 'Owner'\n",
    "loan['HomeOwnershipType'][loan['HomeOwnershipType'] == 2.0] = 'Living_with_parents'\n",
    "loan['HomeOwnershipType'][loan['HomeOwnershipType'] == 3.0] = 'Tenant_pre_furnished_property'\n",
    "loan['HomeOwnershipType'][loan['HomeOwnershipType'] == 4.0] = 'Tenant_unfurnished_property'\n",
    "loan['HomeOwnershipType'][loan['HomeOwnershipType'] == 5.0] = 'Council_house'\n",
    "loan['HomeOwnershipType'][loan['HomeOwnershipType'] == 6.0] = 'Joint_tenant'\n",
    "loan['HomeOwnershipType'][loan['HomeOwnershipType'] == 7.0] = 'Joint_ownership'\n",
    "loan['HomeOwnershipType'][loan['HomeOwnershipType'] == 8.0] = 'Mortgage'\n",
    "loan['HomeOwnershipType'][loan['HomeOwnershipType'] == 9.0] = 'Owner_with_encumbrance'\n",
    "loan['HomeOwnershipType'][loan['HomeOwnershipType'] == 10.0] = 'Other'\n",
    "loan['HomeOwnershipType'].value_counts(normalize=True, dropna=False)"
   ]
  },
  {
   "cell_type": "code",
   "execution_count": null,
   "metadata": {},
   "outputs": [],
   "source": [
    "loan['CreditScoreEsMicroL'].value_counts(normalize=True, dropna=False)"
   ]
  },
  {
   "cell_type": "code",
   "execution_count": null,
   "metadata": {},
   "outputs": [],
   "source": [
    "loan['CreditScoreEsMicroL'][loan['CreditScoreEsMicroL'].isna()] = 'UNKNOWN'\n",
    "loan['CreditScoreEsMicroL'].value_counts(normalize=True, dropna=False)"
   ]
  },
  {
   "cell_type": "code",
   "execution_count": null,
   "metadata": {},
   "outputs": [],
   "source": [
    "# proccess risk-relevant fields\n",
    "loan.rename({'ProbabilityOfDefault':'pd'}, axis=1, inplace=True)\n",
    "loan.rename({'LossGivenDefault':'lgd'}, axis=1, inplace=True)"
   ]
  },
  {
   "cell_type": "code",
   "execution_count": null,
   "metadata": {},
   "outputs": [],
   "source": [
    "loan[0:2]"
   ]
  },
  {
   "cell_type": "markdown",
   "metadata": {
    "tags": []
   },
   "source": [
    "## <span style=\"font-family: ClearSans-Bold, sans-serif; color:navyblue\">Target Variable: annualized rate of return (ARR)</span>\n",
    "\n",
    "<span style=\"font-family: ClearSans, sans-serif; color:navyblue\"><b><a href=\"https://doi.org/10.1016/j.elerap.2017.06.004\">Methodology:</a></b> Yufei Xia, Chuanzhe Liu, and Nana Liu. 2017. <i>Cost-sensitive boosted tree for loan evaluation in peer-to-peer lending</i>. Electron. Commer. Rec. Appl. 24, C (July 2017), 30–49. </span>\n",
    "\n",
    "\n",
    "$ARR = \\left(\\frac{{P+G}}{{P}}\\right)^{\\frac{1}{N}} - 1$ \\\n",
    "<span style=\"font-family: ClearSans, sans-serif; color:navyblue\">where:</span>\n",
    "\n",
    "<span style=\"font-family: ClearSans, sans-serif; color:navyblue\"> \n",
    "    &bull; P is the principal</br>\n",
    "    &bull; G is the interest gain computed by the nominal interest multiple P</br>\n",
    "    &bull; N is the number of years</br></span>\n",
    "\n",
    "<span style=\"font-family: ClearSans, sans-serif; color:navyblue\"><br>For example, if one invests €50 on a loan with a nominal interest of 9.98% and 36 monthly payments (3 years), the ARR calculation would be:</br></span>\n",
    "\n",
    "$ARR = \\left(\\frac{{50+50 \\times 9.98\\% \\times 3}}{{50}}\\right)^{\\frac{1}{3}} - 1 = 9.12\\%$</br>\n",
    "<span style=\"font-family: ClearSans, sans-serif; color:navyblue\"><br>Additionally, following Bondora's approach, we exclude write-offs from the numerator part. </br></span>\n",
    "\n",
    "<div class=\"alert alert-block alert-info\">\n",
    "<span style=\"font-family: ClearSans, sans-serif; color:navyblue\"><b>Note:</b> Summary statistics about Bondora's portfolio are available <a href=\"https://github.com/rapidsai-community/showcase/tree/main/event_notebooks/GTC_2021/credit_scorecard\" title=\"Building Credit Risk Scorecards with RAPIDS\">here</a></a></div>\n",
    "\n",
    "<span style=\"font-family: ClearSans, sans-serif; color:navyblue\">To calculated a **Risk-adjusted ARR** value we subtract the expected loss ratio from the ARR computed per formulas above. This is slightly different from how Bondora calculates XIRR, but is arguably more aligned with the goals of risk modeling.</span>"
   ]
  },
  {
   "cell_type": "code",
   "execution_count": null,
   "metadata": {
    "scrolled": true
   },
   "outputs": [],
   "source": [
    "# examine quartiles of %% rate\n",
    "print(f\"Before outlier treatment\")\n",
    "display((loan['Interest']/100).describe())\n",
    "# some values look like true outliers\n",
    "iqr = np.percentile(loan['Interest'], 75) - np.percentile(loan['Interest'], 25)\n",
    "print(f\"IQR: {iqr:.2f}\")\n",
    "# cap the outliers\n",
    "loan['Interest'] = np.clip(loan['Interest'], a_max=iqr*3, a_min=None)\n",
    "# check final distribution\n",
    "print(f\"After outlier treatment\")\n",
    "display((loan['Interest']/100).describe())"
   ]
  },
  {
   "cell_type": "code",
   "execution_count": null,
   "metadata": {},
   "outputs": [],
   "source": [
    "# impute 0 for absence of write-offs\n",
    "loan['PrincipalWriteOffs'] = np.where(loan['PrincipalWriteOffs'].isna(), 0, loan['PrincipalWriteOffs'])"
   ]
  },
  {
   "cell_type": "code",
   "execution_count": null,
   "metadata": {},
   "outputs": [],
   "source": [
    "# calculate ARR per Xia et al. and exclude write-offs\n",
    "loan['ARR'] = (((\n",
    "    (loan['Amount'] # principal\n",
    "     + (loan['Amount'] * loan['Interest']/100 * loan['LoanDuration']/12)) # interest\n",
    "    - loan['PrincipalWriteOffs']) # write-offs\n",
    "    / loan['Amount']) # principal\n",
    "    ** (1 / (loan['LoanDuration'] / 12))) - 1\n",
    "display(loan['ARR'].describe())"
   ]
  },
  {
   "cell_type": "code",
   "execution_count": null,
   "metadata": {},
   "outputs": [],
   "source": [
    "# calculated risk-adjusted ARR\n",
    "loan['ExpectedLoss'] = loan['ExpectedLoss'].fillna(loan['ExpectedLoss'].mean())\n",
    "loan['risk_adj_ARR'] = loan['ARR'] - loan['ExpectedLoss']\n",
    "display(loan['risk_adj_ARR'].describe())"
   ]
  },
  {
   "cell_type": "markdown",
   "metadata": {},
   "source": [
    "#### Serialize dataset"
   ]
  },
  {
   "cell_type": "code",
   "execution_count": null,
   "metadata": {},
   "outputs": [],
   "source": [
    "import pyarrow as pa\n",
    "import pyarrow.parquet as pq"
   ]
  },
  {
   "cell_type": "code",
   "execution_count": null,
   "metadata": {},
   "outputs": [],
   "source": [
    "# Move PartyId column to the far left of the dataframe\n",
    "cols = loan.columns.to_list()\n",
    "cols.pop(cols.index('PartyId'))\n",
    "loan = loan[['PartyId'] + cols]\n",
    "\n",
    "# remove redundant columns\n",
    "cols_to_drop = ['FirstPaymentDate',\n",
    "                'MonthlyPayment', \n",
    "                'AppliedAmount', \n",
    "                'Amount',\n",
    "                'Country', \n",
    "                'Interest', \n",
    "                'LoanDuration',\n",
    "                'MaturityDate_Original', \n",
    "                'MaturityDate_Last',\n",
    "                'LastPaymentOn', \n",
    "                'DefaultDate',\n",
    "                'ExpectedLoss', \n",
    "                'ExpectedReturn',\n",
    "                # 'lgd',\n",
    "                'Status',\n",
    "                'PrincipalWriteOffs', \n",
    "                'PrincipalBalance']\n",
    "\n",
    "loan.drop(columns=cols_to_drop, axis=1, inplace=True)\n",
    "\n",
    "cat_cols = loan.select_dtypes(include=[object]).columns\n",
    "loan[cat_cols] = loan[cat_cols].astype(str)\n",
    "\n",
    "feats_num = set(loan.columns) - set(cat_cols)\n",
    "\n",
    "# impute missing numerical values\n",
    "for num_feat in feats_num:\n",
    "    loan[num_feat].fillna(loan[num_feat].mean(), inplace=True)\n",
    "\n",
    "# get month of origination date\n",
    "loan['LoanDate'] = loan['LoanDate'].dt.to_period('M')"
   ]
  },
  {
   "cell_type": "code",
   "execution_count": null,
   "metadata": {},
   "outputs": [],
   "source": [
    "table = pa.Table.from_pandas(loan, preserve_index=False)\n",
    "pq.write_table(table, 'Bondora_dataset.parquet')"
   ]
  },
  {
   "cell_type": "code",
   "execution_count": null,
   "metadata": {},
   "outputs": [],
   "source": [
    "# test the import\n",
    "df = pq.read_table('Bondora_dataset.parquet').to_pandas()\n",
    "df[0:1].T"
   ]
  }
 ],
 "metadata": {
  "kernelspec": {
   "display_name": "Python 3 (ipykernel)",
   "language": "python",
   "name": "python3"
  },
  "language_info": {
   "codemirror_mode": {
    "name": "ipython",
    "version": 3
   },
   "file_extension": ".py",
   "mimetype": "text/x-python",
   "name": "python",
   "nbconvert_exporter": "python",
   "pygments_lexer": "ipython3",
   "version": "3.11.4"
  }
 },
 "nbformat": 4,
 "nbformat_minor": 4
}
